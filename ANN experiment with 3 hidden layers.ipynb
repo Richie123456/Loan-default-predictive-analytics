{
 "cells": [
  {
   "cell_type": "code",
   "execution_count": 1,
   "metadata": {},
   "outputs": [],
   "source": [
    "import pandas as pd\n",
    "import numpy as np\n",
    "import seaborn as sns\n",
    "import matplotlib.pyplot as plt"
   ]
  },
  {
   "cell_type": "code",
   "execution_count": 2,
   "metadata": {},
   "outputs": [],
   "source": [
    "from sklearn import linear_model\n",
    "from sklearn.model_selection import train_test_split\n",
    "from sklearn import preprocessing \n",
    "from matplotlib import pyplot as pl"
   ]
  },
  {
   "cell_type": "code",
   "execution_count": 19,
   "metadata": {},
   "outputs": [],
   "source": [
    "df = pd.read_csv(\"Balanced Loan data.csv\")"
   ]
  },
  {
   "cell_type": "code",
   "execution_count": 20,
   "metadata": {},
   "outputs": [
    {
     "data": {
      "text/plain": [
       "member_id      False\n",
       "loan_amnt      False\n",
       "int_rate       False\n",
       "installment    False\n",
       "annual_inc     False\n",
       "loan_status    False\n",
       "dtype: bool"
      ]
     },
     "execution_count": 20,
     "metadata": {},
     "output_type": "execute_result"
    }
   ],
   "source": [
    "# Checking for missing values( false means there are no missing values)\n",
    "df.isna().any()"
   ]
  },
  {
   "cell_type": "code",
   "execution_count": 21,
   "metadata": {},
   "outputs": [
    {
     "data": {
      "text/plain": [
       "member_id      0\n",
       "loan_amnt      0\n",
       "int_rate       0\n",
       "installment    0\n",
       "annual_inc     0\n",
       "loan_status    0\n",
       "dtype: int64"
      ]
     },
     "execution_count": 21,
     "metadata": {},
     "output_type": "execute_result"
    }
   ],
   "source": [
    "df.isna().sum()"
   ]
  },
  {
   "cell_type": "code",
   "execution_count": 22,
   "metadata": {},
   "outputs": [
    {
     "data": {
      "text/html": [
       "<div>\n",
       "<style scoped>\n",
       "    .dataframe tbody tr th:only-of-type {\n",
       "        vertical-align: middle;\n",
       "    }\n",
       "\n",
       "    .dataframe tbody tr th {\n",
       "        vertical-align: top;\n",
       "    }\n",
       "\n",
       "    .dataframe thead th {\n",
       "        text-align: right;\n",
       "    }\n",
       "</style>\n",
       "<table border=\"1\" class=\"dataframe\">\n",
       "  <thead>\n",
       "    <tr style=\"text-align: right;\">\n",
       "      <th></th>\n",
       "      <th>member_id</th>\n",
       "      <th>loan_amnt</th>\n",
       "      <th>int_rate</th>\n",
       "      <th>installment</th>\n",
       "      <th>annual_inc</th>\n",
       "      <th>loan_status</th>\n",
       "    </tr>\n",
       "  </thead>\n",
       "  <tbody>\n",
       "    <tr>\n",
       "      <th>member_id</th>\n",
       "      <td>1.000000</td>\n",
       "      <td>0.079768</td>\n",
       "      <td>0.165543</td>\n",
       "      <td>0.046290</td>\n",
       "      <td>-0.010834</td>\n",
       "      <td>0.409164</td>\n",
       "    </tr>\n",
       "    <tr>\n",
       "      <th>loan_amnt</th>\n",
       "      <td>0.079768</td>\n",
       "      <td>1.000000</td>\n",
       "      <td>0.212259</td>\n",
       "      <td>0.951491</td>\n",
       "      <td>0.367615</td>\n",
       "      <td>0.114264</td>\n",
       "    </tr>\n",
       "    <tr>\n",
       "      <th>int_rate</th>\n",
       "      <td>0.165543</td>\n",
       "      <td>0.212259</td>\n",
       "      <td>1.000000</td>\n",
       "      <td>0.197562</td>\n",
       "      <td>-0.062583</td>\n",
       "      <td>0.348325</td>\n",
       "    </tr>\n",
       "    <tr>\n",
       "      <th>installment</th>\n",
       "      <td>0.046290</td>\n",
       "      <td>0.951491</td>\n",
       "      <td>0.197562</td>\n",
       "      <td>1.000000</td>\n",
       "      <td>0.362475</td>\n",
       "      <td>0.077964</td>\n",
       "    </tr>\n",
       "    <tr>\n",
       "      <th>annual_inc</th>\n",
       "      <td>-0.010834</td>\n",
       "      <td>0.367615</td>\n",
       "      <td>-0.062583</td>\n",
       "      <td>0.362475</td>\n",
       "      <td>1.000000</td>\n",
       "      <td>-0.101175</td>\n",
       "    </tr>\n",
       "    <tr>\n",
       "      <th>loan_status</th>\n",
       "      <td>0.409164</td>\n",
       "      <td>0.114264</td>\n",
       "      <td>0.348325</td>\n",
       "      <td>0.077964</td>\n",
       "      <td>-0.101175</td>\n",
       "      <td>1.000000</td>\n",
       "    </tr>\n",
       "  </tbody>\n",
       "</table>\n",
       "</div>"
      ],
      "text/plain": [
       "             member_id  loan_amnt  int_rate  installment  annual_inc  \\\n",
       "member_id     1.000000   0.079768  0.165543     0.046290   -0.010834   \n",
       "loan_amnt     0.079768   1.000000  0.212259     0.951491    0.367615   \n",
       "int_rate      0.165543   0.212259  1.000000     0.197562   -0.062583   \n",
       "installment   0.046290   0.951491  0.197562     1.000000    0.362475   \n",
       "annual_inc   -0.010834   0.367615 -0.062583     0.362475    1.000000   \n",
       "loan_status   0.409164   0.114264  0.348325     0.077964   -0.101175   \n",
       "\n",
       "             loan_status  \n",
       "member_id       0.409164  \n",
       "loan_amnt       0.114264  \n",
       "int_rate        0.348325  \n",
       "installment     0.077964  \n",
       "annual_inc     -0.101175  \n",
       "loan_status     1.000000  "
      ]
     },
     "execution_count": 22,
     "metadata": {},
     "output_type": "execute_result"
    }
   ],
   "source": [
    "#shows the correlation (relationship) between the variables\n",
    "correlation = df.corr()\n",
    "correlation"
   ]
  },
  {
   "cell_type": "code",
   "execution_count": 23,
   "metadata": {
    "scrolled": false
   },
   "outputs": [
    {
     "data": {
      "text/plain": [
       "<matplotlib.axes._subplots.AxesSubplot at 0x25d188c2948>"
      ]
     },
     "execution_count": 23,
     "metadata": {},
     "output_type": "execute_result"
    },
    {
     "data": {
      "image/png": "[encoded data removed]",
      "text/plain": [
       "<Figure size 720x576 with 2 Axes>"
      ]
     },
     "metadata": {
      "needs_background": "light"
     },
     "output_type": "display_data"
    }
   ],
   "source": [
    "#visualiizing \n",
    "#plotting a heatmap for to the correlation\n",
    "plt.figure(figsize=(10,8))\n",
    "mask = np.zeros_like(correlation)\n",
    "mask[np.triu_indices_from(mask)] = True\n",
    "sns.heatmap(correlation, annot=True, square = True, mask = mask)"
   ]
  },
  {
   "cell_type": "code",
   "execution_count": 24,
   "metadata": {},
   "outputs": [],
   "source": [
    "plt.rcParams['figure.figsize']= (8,4)"
   ]
  },
  {
   "cell_type": "code",
   "execution_count": 25,
   "metadata": {
    "scrolled": false
   },
   "outputs": [
    {
     "name": "stdout",
     "output_type": "stream",
     "text": [
      "<class 'pandas.core.frame.DataFrame'>\n",
      "RangeIndex: 415272 entries, 0 to 415271\n",
      "Data columns (total 6 columns):\n",
      " #   Column       Non-Null Count   Dtype  \n",
      "---  ------       --------------   -----  \n",
      " 0   member_id    415272 non-null  int64  \n",
      " 1   loan_amnt    415272 non-null  int64  \n",
      " 2   int_rate     415272 non-null  float64\n",
      " 3   installment  415272 non-null  float64\n",
      " 4   annual_inc   415272 non-null  float64\n",
      " 5   loan_status  415272 non-null  int64  \n",
      "dtypes: float64(3), int64(3)\n",
      "memory usage: 19.0 MB\n"
     ]
    }
   ],
   "source": [
    "df.info()"
   ]
  },
  {
   "cell_type": "code",
   "execution_count": 26,
   "metadata": {},
   "outputs": [
    {
     "data": {
      "text/plain": [
       "(415272, 6)"
      ]
     },
     "execution_count": 26,
     "metadata": {},
     "output_type": "execute_result"
    }
   ],
   "source": [
    "df.shape"
   ]
  },
  {
   "cell_type": "code",
   "execution_count": 27,
   "metadata": {},
   "outputs": [],
   "source": [
    "X = df.iloc[:, 1:5].values\n",
    "y = df.iloc[:, 5].values"
   ]
  },
  {
   "cell_type": "code",
   "execution_count": 28,
   "metadata": {},
   "outputs": [
    {
     "name": "stdout",
     "output_type": "stream",
     "text": [
      "0    207723\n",
      "1    207549\n",
      "Name: loan_status, dtype: int64\n"
     ]
    }
   ],
   "source": [
    "print(df[\"loan_status\"].value_counts())"
   ]
  },
  {
   "cell_type": "code",
   "execution_count": 29,
   "metadata": {},
   "outputs": [
    {
     "data": {
      "text/html": [
       "<div>\n",
       "<style scoped>\n",
       "    .dataframe tbody tr th:only-of-type {\n",
       "        vertical-align: middle;\n",
       "    }\n",
       "\n",
       "    .dataframe tbody tr th {\n",
       "        vertical-align: top;\n",
       "    }\n",
       "\n",
       "    .dataframe thead th {\n",
       "        text-align: right;\n",
       "    }\n",
       "</style>\n",
       "<table border=\"1\" class=\"dataframe\">\n",
       "  <thead>\n",
       "    <tr style=\"text-align: right;\">\n",
       "      <th></th>\n",
       "      <th>loan_amnt</th>\n",
       "      <th>int_rate</th>\n",
       "      <th>installment</th>\n",
       "      <th>annual_inc</th>\n",
       "      <th>loan_status</th>\n",
       "    </tr>\n",
       "  </thead>\n",
       "  <tbody>\n",
       "    <tr>\n",
       "      <th>0</th>\n",
       "      <td>5000</td>\n",
       "      <td>10.65</td>\n",
       "      <td>162.87</td>\n",
       "      <td>24000.0</td>\n",
       "      <td>0</td>\n",
       "    </tr>\n",
       "    <tr>\n",
       "      <th>1</th>\n",
       "      <td>2400</td>\n",
       "      <td>15.96</td>\n",
       "      <td>84.33</td>\n",
       "      <td>12252.0</td>\n",
       "      <td>0</td>\n",
       "    </tr>\n",
       "    <tr>\n",
       "      <th>2</th>\n",
       "      <td>10000</td>\n",
       "      <td>13.49</td>\n",
       "      <td>339.31</td>\n",
       "      <td>49200.0</td>\n",
       "      <td>0</td>\n",
       "    </tr>\n",
       "    <tr>\n",
       "      <th>3</th>\n",
       "      <td>5000</td>\n",
       "      <td>7.90</td>\n",
       "      <td>156.46</td>\n",
       "      <td>36000.0</td>\n",
       "      <td>0</td>\n",
       "    </tr>\n",
       "    <tr>\n",
       "      <th>4</th>\n",
       "      <td>3000</td>\n",
       "      <td>18.64</td>\n",
       "      <td>109.43</td>\n",
       "      <td>48000.0</td>\n",
       "      <td>0</td>\n",
       "    </tr>\n",
       "  </tbody>\n",
       "</table>\n",
       "</div>"
      ],
      "text/plain": [
       "   loan_amnt  int_rate  installment  annual_inc  loan_status\n",
       "0       5000     10.65       162.87     24000.0            0\n",
       "1       2400     15.96        84.33     12252.0            0\n",
       "2      10000     13.49       339.31     49200.0            0\n",
       "3       5000      7.90       156.46     36000.0            0\n",
       "4       3000     18.64       109.43     48000.0            0"
      ]
     },
     "execution_count": 29,
     "metadata": {},
     "output_type": "execute_result"
    }
   ],
   "source": [
    "df = df.drop([\"member_id\"],axis = True)\n",
    "df.head(5)"
   ]
  },
  {
   "cell_type": "code",
   "execution_count": 30,
   "metadata": {
    "scrolled": false
   },
   "outputs": [],
   "source": [
    "# Training and Test split into 80% training data and 20% test set\n",
    "X_train, X_test, y_train, y_test = train_test_split(X, y, test_size = 0.2, random_state = 0)"
   ]
  },
  {
   "cell_type": "code",
   "execution_count": 31,
   "metadata": {},
   "outputs": [
    {
     "data": {
      "text/plain": [
       "((332217, 4), (83055, 4))"
      ]
     },
     "execution_count": 31,
     "metadata": {},
     "output_type": "execute_result"
    }
   ],
   "source": [
    "X_train.shape, X_test.shape"
   ]
  },
  {
   "cell_type": "code",
   "execution_count": 32,
   "metadata": {},
   "outputs": [],
   "source": [
    "from sklearn.preprocessing import StandardScaler\n",
    "sc = StandardScaler()\n",
    "X_train = sc.fit_transform(X_train)\n",
    "X_test = sc.transform(X_test)"
   ]
  },
  {
   "cell_type": "code",
   "execution_count": 34,
   "metadata": {},
   "outputs": [
    {
     "name": "stderr",
     "output_type": "stream",
     "text": [
      "Using TensorFlow backend.\n"
     ]
    }
   ],
   "source": [
    " #Importing libraries required for building a neural network (Keras & classes)\n",
    "import keras\n",
    "from keras.models import Sequential\n",
    "from keras.layers import Dense"
   ]
  },
  {
   "cell_type": "code",
   "execution_count": 33,
   "metadata": {},
   "outputs": [
    {
     "name": "stdout",
     "output_type": "stream",
     "text": [
      "Note: you may need to restart the kernel to use updated packages.\n"
     ]
    },
    {
     "name": "stderr",
     "output_type": "stream",
     "text": [
      "ERROR: Could not find a version that satisfies the requirement tensorflow==1.2.0 (from versions: 1.13.0rc1, 1.13.0rc2, 1.13.1, 1.13.2, 1.14.0rc0, 1.14.0rc1, 1.14.0, 1.15.0rc0, 1.15.0rc1, 1.15.0rc2, 1.15.0rc3, 1.15.0, 1.15.2, 1.15.3, 1.15.4, 2.0.0a0, 2.0.0b0, 2.0.0b1, 2.0.0rc0, 2.0.0rc1, 2.0.0rc2, 2.0.0, 2.0.1, 2.0.2, 2.0.3, 2.1.0rc0, 2.1.0rc1, 2.1.0rc2, 2.1.0, 2.1.1, 2.1.2, 2.2.0rc0, 2.2.0rc1, 2.2.0rc2, 2.2.0rc3, 2.2.0rc4, 2.2.0, 2.2.1, 2.3.0rc0, 2.3.0rc1, 2.3.0rc2, 2.3.0, 2.3.1, 2.4.0rc0, 2.4.0rc1)\n",
      "ERROR: No matching distribution found for tensorflow==1.2.0\n"
     ]
    }
   ],
   "source": [
    "# reinstalling tenserflow because i got an error\n",
    "pip install tensorflow==1.2.0 --ignore-installed"
   ]
  },
  {
   "cell_type": "code",
   "execution_count": 35,
   "metadata": {},
   "outputs": [],
   "source": [
    "#Initializing the Artificial Neural Network\n",
    "classifier = Sequential()"
   ]
  },
  {
   "cell_type": "code",
   "execution_count": 36,
   "metadata": {
    "scrolled": false
   },
   "outputs": [
    {
     "name": "stderr",
     "output_type": "stream",
     "text": [
      "C:\\Users\\PRISCILLA\\.conda\\envs\\tensorflow\\lib\\site-packages\\ipykernel_launcher.py:3: UserWarning: Update your `Dense` call to the Keras 2 API: `Dense(activation=\"relu\", input_dim=4, units=3, kernel_initializer=\"uniform\")`\n",
      "  This is separate from the ipykernel package so we can avoid doing imports until\n",
      "C:\\Users\\PRISCILLA\\.conda\\envs\\tensorflow\\lib\\site-packages\\ipykernel_launcher.py:6: UserWarning: Update your `Dense` call to the Keras 2 API: `Dense(activation=\"relu\", units=3, kernel_initializer=\"uniform\")`\n",
      "  \n",
      "C:\\Users\\PRISCILLA\\.conda\\envs\\tensorflow\\lib\\site-packages\\ipykernel_launcher.py:9: UserWarning: Update your `Dense` call to the Keras 2 API: `Dense(activation=\"sigmoid\", units=1, kernel_initializer=\"uniform\")`\n",
      "  if __name__ == '__main__':\n",
      "C:\\Users\\PRISCILLA\\.conda\\envs\\tensorflow\\lib\\site-packages\\ipykernel_launcher.py:16: UserWarning: The `nb_epoch` argument in `fit` has been renamed `epochs`.\n",
      "  app.launch_new_instance()\n"
     ]
    },
    {
     "name": "stdout",
     "output_type": "stream",
     "text": [
      "Epoch 1/20\n",
      "332217/332217 [==============================] - 144s 434us/step - loss: 0.5800 - accuracy: 0.6916\n",
      "Epoch 2/20\n",
      "332217/332217 [==============================] - 149s 449us/step - loss: 0.5574 - accuracy: 0.7111\n",
      "Epoch 3/20\n",
      "332217/332217 [==============================] - 144s 432us/step - loss: 0.5232 - accuracy: 0.7248\n",
      "Epoch 4/20\n",
      "332217/332217 [==============================] - 143s 431us/step - loss: 0.5162 - accuracy: 0.7230\n",
      "Epoch 5/20\n",
      "332217/332217 [==============================] - 144s 433us/step - loss: 0.5144 - accuracy: 0.7239\n",
      "Epoch 6/20\n",
      "332217/332217 [==============================] - 138s 416us/step - loss: 0.5140 - accuracy: 0.7237\n",
      "Epoch 7/20\n",
      "332217/332217 [==============================] - 146s 438us/step - loss: 0.5136 - accuracy: 0.7234\n",
      "Epoch 8/20\n",
      "332217/332217 [==============================] - 140s 422us/step - loss: 0.5137 - accuracy: 0.7237\n",
      "Epoch 9/20\n",
      "332217/332217 [==============================] - 1551s 5ms/step - loss: 0.5135 - accuracy: 0.7237\n",
      "Epoch 10/20\n",
      "332217/332217 [==============================] - 133s 401us/step - loss: 0.5136 - accuracy: 0.7238\n",
      "Epoch 11/20\n",
      "332217/332217 [==============================] - 137s 412us/step - loss: 0.5135 - accuracy: 0.7236\n",
      "Epoch 12/20\n",
      "332217/332217 [==============================] - 114s 344us/step - loss: 0.5134 - accuracy: 0.7241\n",
      "Epoch 13/20\n",
      "332217/332217 [==============================] - 125s 377us/step - loss: 0.5133 - accuracy: 0.7236\n",
      "Epoch 14/20\n",
      "332217/332217 [==============================] - 129s 388us/step - loss: 0.5133 - accuracy: 0.7236\n",
      "Epoch 15/20\n",
      "332217/332217 [==============================] - 123s 369us/step - loss: 0.5132 - accuracy: 0.7239\n",
      "Epoch 16/20\n",
      "332217/332217 [==============================] - 127s 382us/step - loss: 0.5133 - accuracy: 0.7237\n",
      "Epoch 17/20\n",
      "332217/332217 [==============================] - 125s 375us/step - loss: 0.5131 - accuracy: 0.7240 - loss: 0.513\n",
      "Epoch 18/20\n",
      "332217/332217 [==============================] - 121s 364us/step - loss: 0.5131 - accuracy: 0.7237\n",
      "Epoch 19/20\n",
      "332217/332217 [==============================] - 121s 363us/step - loss: 0.5131 - accuracy: 0.7238\n",
      "Epoch 20/20\n",
      "332217/332217 [==============================] - 124s 374us/step - loss: 0.5130 - accuracy: 0.7241\n"
     ]
    },
    {
     "data": {
      "text/plain": [
       "<keras.callbacks.callbacks.History at 0x25d2315a448>"
      ]
     },
     "execution_count": 36,
     "metadata": {},
     "output_type": "execute_result"
    }
   ],
   "source": [
    "#Adding the input layer and a hidden layer\n",
    "classifier.add(Dense(output_dim = 3, init = 'uniform', activation = 'relu',\n",
    "input_dim = 4))\n",
    "                     \n",
    "#Adding second hidden layer\n",
    "classifier.add(Dense(output_dim = 3, init = 'uniform', activation = 'relu'))    \n",
    "                     \n",
    "#Adding output layer\n",
    "classifier.add(Dense(output_dim = 1, init = 'uniform', activation = 'sigmoid'))\n",
    "\n",
    "#Compiling the artificial neural network\n",
    "classifier.compile(optimizer = 'adam', loss = 'binary_crossentropy',\n",
    "metrics = ['accuracy'])\n",
    "                     \n",
    "#Fitting artifical neural network to the training set\n",
    "classifier.fit(X_train, y_train, batch_size = 10, nb_epoch = 20)                  "
   ]
  },
  {
   "cell_type": "code",
   "execution_count": 48,
   "metadata": {},
   "outputs": [
    {
     "data": {
      "image/png": "[encoded data removed]",
      "text/plain": [
       "<Figure size 576x288 with 1 Axes>"
      ]
     },
     "metadata": {
      "needs_background": "light"
     },
     "output_type": "display_data"
    }
   ],
   "source": [
    "# summarize history for accuracy\n",
    "plt.plot(history.history['accuracy'])\n",
    "plt.title('model accuracy')\n",
    "plt.ylabel('accuracy')\n",
    "plt.xlabel('epoch')\n",
    "plt.legend(['train', 'test'], loc='upper left')\n",
    "plt.show()"
   ]
  },
  {
   "cell_type": "code",
   "execution_count": 43,
   "metadata": {},
   "outputs": [
    {
     "data": {
      "text/plain": [
       "array([[0.6132176 ],\n",
       "       [0.25347888],\n",
       "       [0.6382509 ],\n",
       "       [0.42024037],\n",
       "       [0.5759124 ],\n",
       "       [0.13054122],\n",
       "       [0.4890718 ],\n",
       "       [0.6755706 ],\n",
       "       [0.3669116 ],\n",
       "       [0.8293572 ]], dtype=float32)"
      ]
     },
     "execution_count": 43,
     "metadata": {},
     "output_type": "execute_result"
    }
   ],
   "source": [
    "# Predicting the Test set results\n",
    "y_pred = classifier.predict(X_test)\n",
    "y_pred[:10]\n"
   ]
  },
  {
   "cell_type": "code",
   "execution_count": 44,
   "metadata": {},
   "outputs": [
    {
     "data": {
      "text/plain": [
       "array([[ True],\n",
       "       [False],\n",
       "       [ True],\n",
       "       [False],\n",
       "       [ True],\n",
       "       [False],\n",
       "       [False],\n",
       "       [ True],\n",
       "       [False],\n",
       "       [ True]])"
      ]
     },
     "execution_count": 44,
     "metadata": {},
     "output_type": "execute_result"
    }
   ],
   "source": [
    "#Converting probabilities into a binary result\n",
    "# The condition set generates different results based on where true or false\n",
    "y_pred = (y_pred > 0.5)\n",
    "y_pred[:10]"
   ]
  },
  {
   "cell_type": "code",
   "execution_count": 45,
   "metadata": {},
   "outputs": [
    {
     "data": {
      "text/plain": [
       "array([[29780, 11904],\n",
       "       [11162, 30209]], dtype=int64)"
      ]
     },
     "execution_count": 45,
     "metadata": {},
     "output_type": "execute_result"
    }
   ],
   "source": [
    "# Making the Confusion Matrix\n",
    "from sklearn.metrics import confusion_matrix\n",
    "cm = confusion_matrix(y_test, y_pred)\n",
    "cm"
   ]
  },
  {
   "cell_type": "code",
   "execution_count": 56,
   "metadata": {},
   "outputs": [
    {
     "data": {
      "text/plain": [
       "0.7222804165914153"
      ]
     },
     "execution_count": 56,
     "metadata": {},
     "output_type": "execute_result"
    }
   ],
   "source": [
    "# Accuracy\n",
    "from sklearn.metrics import accuracy_score\n",
    "Accuracy = accuracy_score(y_test, y_pred)\n",
    "Accuracy"
   ]
  },
  {
   "cell_type": "code",
   "execution_count": 58,
   "metadata": {},
   "outputs": [
    {
     "data": {
      "text/plain": [
       "array([0.7144228 , 0.73019748])"
      ]
     },
     "execution_count": 58,
     "metadata": {},
     "output_type": "execute_result"
    }
   ],
   "source": [
    "# Recall\n",
    "from sklearn.metrics import recall_score\n",
    "Recall= recall_score(y_test, y_pred, average=None)\n",
    "Recall"
   ]
  },
  {
   "cell_type": "code",
   "execution_count": 59,
   "metadata": {},
   "outputs": [
    {
     "data": {
      "text/plain": [
       "array([0.72737043, 0.71733194])"
      ]
     },
     "execution_count": 59,
     "metadata": {},
     "output_type": "execute_result"
    }
   ],
   "source": [
    "# Precision\n",
    "from sklearn.metrics import precision_score\n",
    "Precision = precision_score(y_test, y_pred, average=None)\n",
    "Precision"
   ]
  },
  {
   "cell_type": "code",
   "execution_count": 68,
   "metadata": {},
   "outputs": [
    {
     "data": {
      "text/plain": [
       "array([0.72083848, 0.72370754])"
      ]
     },
     "execution_count": 68,
     "metadata": {},
     "output_type": "execute_result"
    }
   ],
   "source": [
    "# F1_Score\n",
    "from sklearn.metrics import f1_score\n",
    "F1_Score = f1_score(y_test, y_pred, average=None)\n",
    "F1_Score"
   ]
  },
  {
   "cell_type": "code",
   "execution_count": null,
   "metadata": {},
   "outputs": [],
   "source": []
  }
 ],
 "metadata": {
  "kernelspec": {
   "display_name": "Python 3",
   "language": "python",
   "name": "python3"
  },
  "language_info": {
   "codemirror_mode": {
    "name": "ipython",
    "version": 3
   },
   "file_extension": ".py",
   "mimetype": "text/x-python",
   "name": "python",
   "nbconvert_exporter": "python",
   "pygments_lexer": "ipython3",
   "version": "3.7.7"
  }
 },
 "nbformat": 4,
 "nbformat_minor": 4
}
